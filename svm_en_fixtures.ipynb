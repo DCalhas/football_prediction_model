{
 "cells": [
  {
   "cell_type": "markdown",
   "metadata": {},
   "source": [
    "# Analyzing csv"
   ]
  },
  {
   "cell_type": "markdown",
   "metadata": {},
   "source": [
    "## Read csv, perform kmeans and classify games"
   ]
  },
  {
   "cell_type": "code",
   "execution_count": 8,
   "metadata": {},
   "outputs": [
    {
     "name": "stdout",
     "output_type": "stream",
     "text": [
      "380\n",
      "Score of k = 2  is:  -5.600075657662676\n",
      "Score of k = 3  is:  -4.240075724910228\n",
      "Score of k = 4  is:  -2.935652913938404\n",
      "Score of k = 5  is:  -2.356098371801693\n",
      "Score of k = 6  is:  -1.5786595649030324\n",
      "Score of k = 7  is:  -1.2849598487992488\n",
      "Score of k = 8  is:  -0.9888584481314799\n",
      "Score of k = 9  is:  -0.7889178171410776\n",
      "Score of k = 10  is:  -0.6022772143195589\n",
      "Train set prediction metrics\n",
      "\n",
      "\n",
      "\n",
      "Mean absolute error:  0.2744360902255639\n",
      "Accuracy score:  0.7255639097744361\n",
      "Precision score:  0.7328947368421053\n",
      "Recall score:  0.6954664341761116\n",
      "\n",
      "\n",
      "\n",
      "Test set prediction metrics\n",
      "\n",
      "\n",
      "\n",
      "Mean absolute error:  0.2894736842105263\n",
      "Accuracy score:  0.7105263157894737\n",
      "Precision score:  0.7102603964244073\n",
      "Recall score:  0.6729539641943734\n",
      "Confusion matrix for test set\n",
      "[[59  9]\n",
      " [24 22]]\n",
      "Confusion matrix for train set\n",
      "[[136  19]\n",
      " [ 54  57]]\n"
     ]
    }
   ],
   "source": [
    "import csv\n",
    "import football_prediction\n",
    "\n",
    "file_name = \"2015.csv\"\n",
    "dir_name = \"en_fixtures\"\n",
    "\n",
    "games = football_prediction.getDataFromCSV(file_name, dir_name)\n",
    "\n",
    "print(len(games))\n",
    "teams = []\n",
    "\n",
    "for g in games:\n",
    "    for i in range(0, 2):\n",
    "        if(not g[i] in teams):\n",
    "            teams += [g[i]]\n",
    "\n",
    "\n",
    "features = football_prediction.getGoalsDifferences(teams, games)\n",
    "\n",
    "features = football_prediction.normalize(features)\n",
    "\n",
    "\n",
    "kmeans_features = football_prediction.kmeans_features(features, teams, games)\n",
    "\n",
    "\n",
    "\n",
    "\n",
    "X_train, X_test, y_train, y_test, y_train_pred, y_test_pred = football_prediction.performSVC(kmeans_features)"
   ]
  },
  {
   "cell_type": "markdown",
   "metadata": {},
   "source": [
    "## Train the model taking into account all of the seasons "
   ]
  },
  {
   "cell_type": "code",
   "execution_count": null,
   "metadata": {},
   "outputs": [],
   "source": []
  }
 ],
 "metadata": {
  "kernelspec": {
   "display_name": "Python 3",
   "language": "python",
   "name": "python3"
  },
  "language_info": {
   "codemirror_mode": {
    "name": "ipython",
    "version": 3
   },
   "file_extension": ".py",
   "mimetype": "text/x-python",
   "name": "python",
   "nbconvert_exporter": "python",
   "pygments_lexer": "ipython3",
   "version": "3.6.6"
  }
 },
 "nbformat": 4,
 "nbformat_minor": 2
}
